{
 "cells": [
  {
   "cell_type": "code",
   "execution_count": 1,
   "id": "86d471bb",
   "metadata": {
    "scrolled": false
   },
   "outputs": [
    {
     "name": "stderr",
     "output_type": "stream",
     "text": [
      "24/12/27 12:13:59 WARN Utils: Your hostname, madiv resolves to a loopback address: 127.0.1.1; using 192.168.1.11 instead (on interface wlo1)\n",
      "24/12/27 12:13:59 WARN Utils: Set SPARK_LOCAL_IP if you need to bind to another address\n",
      "Setting default log level to \"WARN\".\n",
      "To adjust logging level use sc.setLogLevel(newLevel). For SparkR, use setLogLevel(newLevel).\n",
      "24/12/27 12:14:02 WARN NativeCodeLoader: Unable to load native-hadoop library for your platform... using builtin-java classes where applicable\n"
     ]
    }
   ],
   "source": [
    "import pandas as pd\n",
    "import pyspark\n",
    "from pyspark.sql import SparkSession\n",
    "from pyspark.sql.functions import count\n",
    "from collections import Counter\n",
    "\n",
    "spark = SparkSession.builder.appName('LeetCode').getOrCreate()"
   ]
  },
  {
   "cell_type": "code",
   "execution_count": 2,
   "id": "6099d75e",
   "metadata": {},
   "outputs": [
    {
     "name": "stderr",
     "output_type": "stream",
     "text": [
      "                                                                                \r"
     ]
    },
    {
     "name": "stdout",
     "output_type": "stream",
     "text": [
      "+--------------+--------+------+\n",
      "|transaction_id|visit_id|amount|\n",
      "+--------------+--------+------+\n",
      "|             2|       5|   310|\n",
      "|             3|       5|   300|\n",
      "|             9|       5|   200|\n",
      "|            12|       1|   910|\n",
      "|            13|       2|   970|\n",
      "+--------------+--------+------+\n",
      "\n",
      "+--------+-----------+\n",
      "|visit_id|customer_id|\n",
      "+--------+-----------+\n",
      "|       1|         23|\n",
      "|       2|          9|\n",
      "|       4|         30|\n",
      "|       5|         54|\n",
      "|       6|         96|\n",
      "|       7|         54|\n",
      "|       8|         54|\n",
      "+--------+-----------+\n",
      "\n",
      "   transaction_id  visit_id  amount\n",
      "0               2         5     310\n",
      "1               3         5     300\n",
      "2               9         5     200\n",
      "3              12         1     910\n",
      "4              13         2     970\n",
      "   visit_id  customer_id\n",
      "0         1           23\n",
      "1         2            9\n",
      "2         4           30\n",
      "3         5           54\n",
      "4         6           96\n"
     ]
    }
   ],
   "source": [
    "spark_Transactions = spark.read.option('header', True).option('delimiter', ',').csv('Transactions.csv')\n",
    "spark_Visits = spark.read.option('header', True).option('delimiter', ',').csv('Visits.csv')\n",
    "\n",
    "pandas_Transactions = pd.read_csv('Transactions.csv')\n",
    "pandas_Visits = pd.read_csv('Visits.csv')\n",
    "\n",
    "spark_Transactions.show()\n",
    "spark_Visits.show()\n",
    "\n",
    "print(pandas_Transactions.head())\n",
    "print(pandas_Visits.head())"
   ]
  },
  {
   "cell_type": "markdown",
   "id": "f51a3d03",
   "metadata": {},
   "source": [
    "### SQL"
   ]
  },
  {
   "cell_type": "code",
   "execution_count": 3,
   "id": "77367cc1",
   "metadata": {},
   "outputs": [
    {
     "name": "stdout",
     "output_type": "stream",
     "text": [
      "+-----------+--------------+\n",
      "|customer_id|count_no_trans|\n",
      "+-----------+--------------+\n",
      "|         54|             2|\n",
      "|         30|             1|\n",
      "|         96|             1|\n",
      "+-----------+--------------+\n",
      "\n"
     ]
    }
   ],
   "source": [
    "def find_customers(visits: pyspark.sql.dataframe.DataFrame, \n",
    "                   transactions: pyspark.sql.dataframe.DataFrame) -> pyspark.sql.dataframe.DataFrame:\n",
    "    visits.createOrReplaceTempView('Visits')\n",
    "    transactions.createOrReplaceTempView('Transactions')\n",
    "    \n",
    "    sqlQuery = \\\n",
    "    '''\n",
    "    SELECT \n",
    "        v.customer_id, \n",
    "        COUNT(*) AS count_no_trans \n",
    "    FROM Visits v \n",
    "    LEFT JOIN Transactions t ON\n",
    "    v.visit_id = t.visit_id\n",
    "    WHERE t.transaction_id IS NULL\n",
    "    GROUP BY v.customer_id\n",
    "    '''\n",
    "    \n",
    "    output = spark.sql(sqlQuery = sqlQuery)\n",
    "    return output\n",
    "\n",
    "output = find_customers(spark_Visits, spark_Transactions)\n",
    "output.show()"
   ]
  },
  {
   "cell_type": "markdown",
   "id": "d8f36e60",
   "metadata": {},
   "source": [
    "### PySpark"
   ]
  },
  {
   "cell_type": "code",
   "execution_count": 4,
   "id": "865db704",
   "metadata": {},
   "outputs": [
    {
     "name": "stdout",
     "output_type": "stream",
     "text": [
      "+-----------+--------------+\n",
      "|customer_id|count_no_trans|\n",
      "+-----------+--------------+\n",
      "|         54|             2|\n",
      "|         30|             1|\n",
      "|         96|             1|\n",
      "+-----------+--------------+\n",
      "\n"
     ]
    }
   ],
   "source": [
    "def find_customers(visits: pyspark.sql.dataframe.DataFrame, \n",
    "                   transactions: pyspark.sql.dataframe.DataFrame) -> pyspark.sql.dataframe.DataFrame:\n",
    "    output = visits.join(transactions, on = 'visit_id', how = 'left')\\\n",
    "                    .filter(transactions.transaction_id.isNull())\\\n",
    "                    .select('customer_id')\\\n",
    "                    .groupBy('customer_id')\\\n",
    "                    .agg(count('customer_id').alias('count_no_trans'))\n",
    "    return output\n",
    "\n",
    "output = find_customers(spark_Visits, spark_Transactions)\n",
    "output.show()"
   ]
  },
  {
   "cell_type": "markdown",
   "id": "ffb53355",
   "metadata": {},
   "source": [
    "### Pandas"
   ]
  },
  {
   "cell_type": "code",
   "execution_count": 5,
   "id": "4ebb4487",
   "metadata": {},
   "outputs": [
    {
     "name": "stdout",
     "output_type": "stream",
     "text": [
      "   customer_id  count_no_trans\n",
      "0           30               1\n",
      "1           96               1\n",
      "2           54               2\n"
     ]
    },
    {
     "data": {
      "text/html": [
       "<div>\n",
       "<style scoped>\n",
       "    .dataframe tbody tr th:only-of-type {\n",
       "        vertical-align: middle;\n",
       "    }\n",
       "\n",
       "    .dataframe tbody tr th {\n",
       "        vertical-align: top;\n",
       "    }\n",
       "\n",
       "    .dataframe thead th {\n",
       "        text-align: right;\n",
       "    }\n",
       "</style>\n",
       "<table border=\"1\" class=\"dataframe\">\n",
       "  <thead>\n",
       "    <tr style=\"text-align: right;\">\n",
       "      <th></th>\n",
       "      <th>customer_id</th>\n",
       "      <th>count_no_trans</th>\n",
       "    </tr>\n",
       "  </thead>\n",
       "  <tbody>\n",
       "    <tr>\n",
       "      <th>0</th>\n",
       "      <td>30</td>\n",
       "      <td>1</td>\n",
       "    </tr>\n",
       "    <tr>\n",
       "      <th>1</th>\n",
       "      <td>54</td>\n",
       "      <td>2</td>\n",
       "    </tr>\n",
       "    <tr>\n",
       "      <th>2</th>\n",
       "      <td>96</td>\n",
       "      <td>1</td>\n",
       "    </tr>\n",
       "  </tbody>\n",
       "</table>\n",
       "</div>"
      ],
      "text/plain": [
       "   customer_id  count_no_trans\n",
       "0           30               1\n",
       "1           54               2\n",
       "2           96               1"
      ]
     },
     "execution_count": 5,
     "metadata": {},
     "output_type": "execute_result"
    }
   ],
   "source": [
    "def find_customers(visits: pd.DataFrame, transactions: pd.DataFrame) -> pd.DataFrame:\n",
    "    output = visits.merge(transactions, on = 'visit_id', how = 'left')\n",
    "    output = output[output.transaction_id.isna()]\n",
    "    output = Counter(output.customer_id)\n",
    "    return pd.DataFrame(output.items(), columns = ['customer_id', 'count_no_trans'])\n",
    "\n",
    "output = find_customers(pandas_Visits, pandas_Transactions)\n",
    "print(output.head())\n",
    "\n",
    "def find_customers(visits: pd.DataFrame, transactions: pd.DataFrame) -> pd.DataFrame:\n",
    "    output = visits.merge(transactions, on = 'visit_id', how = 'left')\n",
    "    output = output[output.transaction_id.isna()]\n",
    "    output = output.groupby('customer_id').size().reset_index(name = 'count_no_trans')\n",
    "    return output\n",
    "    \n",
    "output = find_customers(pandas_Visits, pandas_Transactions)\n",
    "output.head()"
   ]
  }
 ],
 "metadata": {
  "kernelspec": {
   "display_name": "Python 3 (ipykernel)",
   "language": "python",
   "name": "python3"
  },
  "language_info": {
   "codemirror_mode": {
    "name": "ipython",
    "version": 3
   },
   "file_extension": ".py",
   "mimetype": "text/x-python",
   "name": "python",
   "nbconvert_exporter": "python",
   "pygments_lexer": "ipython3",
   "version": "3.11.5"
  }
 },
 "nbformat": 4,
 "nbformat_minor": 5
}
